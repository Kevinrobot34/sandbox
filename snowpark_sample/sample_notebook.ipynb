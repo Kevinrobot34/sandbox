{
 "cells": [
  {
   "cell_type": "code",
   "execution_count": null,
   "id": "098edae4",
   "metadata": {},
   "outputs": [],
   "source": [
    "from snowflake import snowpark\n",
    "from snowflake.snowpark import Session"
   ]
  },
  {
   "cell_type": "code",
   "execution_count": null,
   "id": "2acdb4b3",
   "metadata": {},
   "outputs": [],
   "source": [
    "import snowflake.connector\n",
    "import os\n",
    "from cryptography.hazmat.backends import default_backend\n",
    "from cryptography.hazmat.primitives import serialization"
   ]
  },
  {
   "cell_type": "code",
   "execution_count": null,
   "id": "70149d4b",
   "metadata": {},
   "outputs": [],
   "source": [
    "PRIVATE_KEY_PATH = os.environ['PRIVATE_KEY_PATH']\n",
    "SNOWFLAKE_ACCOUNT = os.environ['SNOWFLAKE_ACCOUNT']\n",
    "SNOWFLAKE_WAREHOUSE = os.environ['SNOWFLAKE_WAREHOUSE']\n",
    "SNOWFLAKE_DATABASE = os.environ['SNOWFLAKE_DATABASE']\n",
    "SNOWFLAKE_SCHEMA = os.environ['SNOWFLAKE_SCHEMA']\n",
    "SNOWFLAKE_ROLE = os.environ['SNOWFLAKE_ROLE']\n",
    "SNOWFLAKE_USER = os.environ['SNOWFLAKE_USER']"
   ]
  },
  {
   "cell_type": "code",
   "execution_count": null,
   "id": "21da6825",
   "metadata": {},
   "outputs": [],
   "source": [
    "def read_private_key(private_key_path: str) -> bytes:\n",
    "    with open(private_key_path, \"rb\") as key:\n",
    "        p_key= serialization.load_pem_private_key(\n",
    "            key.read(),\n",
    "            password=None,\n",
    "            backend=default_backend()\n",
    "        )\n",
    "\n",
    "    pkb = p_key.private_bytes(\n",
    "        encoding=serialization.Encoding.DER,\n",
    "        format=serialization.PrivateFormat.PKCS8,\n",
    "        encryption_algorithm=serialization.NoEncryption())\n",
    "    return pkb\n",
    "\n",
    "param = {\n",
    "    \"user\": SNOWFLAKE_USER,\n",
    "    \"role\" : SNOWFLAKE_ROLE,\n",
    "    \"account\": SNOWFLAKE_ACCOUNT,\n",
    "    \"private_key\": read_private_key(PRIVATE_KEY_PATH),\n",
    "    \"warehouse\": SNOWFLAKE_WAREHOUSE,\n",
    "    \"database\": SNOWFLAKE_DATABASE,\n",
    "    \"schema\": SNOWFLAKE_SCHEMA,\n",
    "}\n",
    "session = snowpark.Session.builder.configs(param).create()"
   ]
  },
  {
   "cell_type": "code",
   "execution_count": null,
   "id": "2ba3b9c5",
   "metadata": {},
   "outputs": [],
   "source": [
    "df = session.table(\"table_name\").limit(100)"
   ]
  },
  {
   "cell_type": "code",
   "execution_count": null,
   "id": "ccf46f43",
   "metadata": {},
   "outputs": [],
   "source": [
    "df.show()"
   ]
  },
  {
   "cell_type": "code",
   "execution_count": null,
   "id": "588f2eb4",
   "metadata": {},
   "outputs": [],
   "source": []
  }
 ],
 "metadata": {
  "kernelspec": {
   "display_name": "Python 3 (ipykernel)",
   "language": "python",
   "name": "python3"
  },
  "language_info": {
   "codemirror_mode": {
    "name": "ipython",
    "version": 3
   },
   "file_extension": ".py",
   "mimetype": "text/x-python",
   "name": "python",
   "nbconvert_exporter": "python",
   "pygments_lexer": "ipython3",
   "version": "3.8.13"
  }
 },
 "nbformat": 4,
 "nbformat_minor": 5
}
